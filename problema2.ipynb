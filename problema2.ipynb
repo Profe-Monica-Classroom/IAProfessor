{
 "cells": [
  {
   "cell_type": "markdown",
   "id": "2f809b86",
   "metadata": {
    "notebookRunGroups": {
     "groupValue": "2"
    }
   },
   "source": [
    "A continuación se presenta el siguiente problema, para esolverlo empleando python:\n",
    "\n",
    "Tenemos el siguiente enunciado\n",
    "Claro, aquí tienes el contenido de la imagen transcrito y traducido al español:\n",
    "\n",
    "Sea \\( A \\) una matriz cuadrada. La expresión \\( P_m(t) = t^2 A^2 + (1 + t + \\frac{t^2}{2} + \\frac{t^3}{3} + ... + \\frac{t^m}{m})I \\) es un polinomio de la matriz dada \\( A \\) que también depende del tiempo \\( t \\), donde \\( I \\) es la matriz identidad del mismo tamaño que la matriz dada. Sea \\( X \\) un vector de tamaño \\( m \\), estamos interesados en calcular \\( P_m(0.5)X \\).\n",
    "\n",
    "Tu tarea es escribir una función llamada `polynomial_at_time` que reciba los siguientes argumentos:\n",
    "\n",
    "1. A, que es un arreglo de numpy correspondiente a la matriz cuadrada \\( A \\) de la ecuación lineal anterior.\n",
    "2. t, que es el valor del tiempo \\( t \\).\n",
    "3. x, que es un arreglo de numpy de forma (m,1) y corresponde al vector de longitud \\( m \\) en la ecuación lineal anterior.\n",
    "4. m, que es un parámetro en el polinomio anterior, que puede ser cualquier entero positivo.\n",
    "\n",
    "La función `polynomial_at_time` debe devolver un arreglo unidimensional de numpy.\n",
    "\n",
    "Utiliza tu función para probar diferentes valores de \\( m \\) y \\( t \\) para la matriz \\( A \\) y el vector \\( X \\) que se muestran a continuación.\n",
    "\n",
    "\\[\n",
    "A = \\begin{bmatrix} 0.2 & 0.8 \\\\ 0.8 & 0.2 \\end{bmatrix}, \\quad X_0 = \\begin{bmatrix} 0.707 \\\\ -0.707 \\end{bmatrix}\n",
    "\\]\n",
    "\n",
    "**PISTAS:**\n",
    "1. Para calcular la potencia de una matriz, usa `np.linalg.matrix_power`. Consulta la ayuda incorporada para esta función en Python.\n",
    "2. Probar tu función no forma parte de la calificación."
   ]
  },
  {
   "cell_type": "code",
   "execution_count": 1,
   "id": "8c4f0c12",
   "metadata": {
    "tags": [
     "creacion de la funcion"
    ]
   },
   "outputs": [],
   "source": [
    "import numpy as np\n",
    "\n",
    "def polynomial_at_time(A, t, x, m):\n",
    "    \"\"\"\n",
    "    Calcula P_m(t)X donde:\n",
    "    P_m(t) = t^2 A^2 + (1 + t + t^2/2 + t^3/3 + ... + t^m/m)I\n",
    "    Args:\n",
    "        A: matriz cuadrada de numpy\n",
    "        t: valor de tiempo (float)\n",
    "        x: vector columna de numpy de tamaño (m, 1)\n",
    "        m: entero positivo\n",
    "    Returns:\n",
    "        np.ndarray unidimensional\n",
    "    \"\"\"\n",
    "    n = A.shape[0] # número de filas de A\n",
    "    I = np.eye(n) # matriz identidad de tamaño n\n",
    "    # Suma escalar: 1 + t + t^2/2 + t^3/3 + ... + t^m/m\n",
    "    scalar_sum = sum([t**k / k for k in range(1, m+1)]) #definición de la suma escalar\n",
    "    scalar_sum += 1  # para el término 1\n",
    "    # Polinomio de la matriz\n",
    "    P = (t**2) * np.linalg.matrix_power(A, 2) + scalar_sum * I # multiplicación por la matriz identidad\n",
    "    # Multiplicación por el vector x\n",
    "    result = P @ x # multiplicación de la matriz por el vector\n",
    "    return result.flatten() # devuelve un vector unidimensional\n"
   ]
  },
  {
   "cell_type": "markdown",
   "id": "b427f3c0",
   "metadata": {
    "notebookRunGroups": {
     "groupValue": "1"
    }
   },
   "source": [
    "Ahora vamos a invocar la función programada con los ejemplos mencionados en el ejercicio"
   ]
  },
  {
   "cell_type": "code",
   "execution_count": 2,
   "id": "4bb02b12",
   "metadata": {},
   "outputs": [
    {
     "name": "stdout",
     "output_type": "stream",
     "text": [
      "[ 1.24196333 -1.24196333]\n",
      "[ 8.41666667 18.08333333]\n"
     ]
    }
   ],
   "source": [
    "A = np.array([[0.2, 0.8],\n",
    "              [0.8, 0.2]])\n",
    "X0 = np.array([[0.707], [-0.707]])\n",
    "\n",
    "# Prueba con m=3, t=0.5\n",
    "res = polynomial_at_time(A, 0.5, X0, 3)\n",
    "print(res)\n",
    "\n",
    "# Ejemplo de uso\n",
    "if __name__ == \"__main__\":\n",
    "    A = np.array([[1, 2], [3, 4]]) # matriz de ejemplo\n",
    "    t = 0.5 # valor de tiempo\n",
    "    x = np.array([[1], [2]]) # vector columna de ejemplo\n",
    "    # m es el grado del polinomio\n",
    "    m = 3 # grado del polinomio\n",
    "    # Llamada a la función\n",
    "    result = polynomial_at_time(A, t, x, m) # resultado\n",
    "    # Imprimir el resultado\n",
    "    print(result)  "
   ]
  }
 ],
 "metadata": {
  "kernelspec": {
   "display_name": "Python 3",
   "language": "python",
   "name": "python3"
  },
  "language_info": {
   "codemirror_mode": {
    "name": "ipython",
    "version": 3
   },
   "file_extension": ".py",
   "mimetype": "text/x-python",
   "name": "python",
   "nbconvert_exporter": "python",
   "pygments_lexer": "ipython3",
   "version": "3.11.2"
  }
 },
 "nbformat": 4,
 "nbformat_minor": 5
}
