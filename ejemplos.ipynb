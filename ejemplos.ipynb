{
 "cells": [
  {
   "cell_type": "code",
   "execution_count": 20,
   "id": "25653035",
   "metadata": {
    "vscode": {
     "languageId": "markdown"
    }
   },
   "outputs": [
    {
     "data": {
      "text/plain": [
       "'\\nEscribe una función matching_lines_to_list que tome dos argumentos: filename y word. \\nLa función matching_lines_to_list devuelve una lista de diccionarios de todas las líneas que contengan word. \\nCada uno de los diccionarios tiene: una clave \"number\" con un valor entero que contiene el número de línea de la línea en el archivo dado; una clave \"freq\" que cuenta el número de veces que word aparece en la línea; \\ny \"text\" con el valor del texto real contenido en esa línea.\\n\\nDeclaremos el segundo argumento word como opcional, \\nde modo que si word no se proporciona, la lista devuelta debe contener diccionarios, \\ncomo se describió anteriormente, de todas las líneas del archivo. En este caso, \"freq\" tiene valor 0.\\n'"
      ]
     },
     "execution_count": 20,
     "metadata": {},
     "output_type": "execute_result"
    }
   ],
   "source": [
    "\"\"\"\n",
    "This code is part of the course to Alex, now we are going to learn about functions and dictionaries.The next exercise is:\n",
    "\n",
    "Write down a function matching_lines_to_list that takes two argument: filename, and word. \n",
    "The function matching_lines_to_list returns a list of dictionaries of all the lines containing word in them. \n",
    "Each of the dictionaries have: a key \"number\" with an integer value containing the line number of the line in the given file; \n",
    "a key \"freq\" which counts the number of times word appears in the line; \n",
    "and \"text\" with the value the actual text contained in that line.\n",
    "\n",
    "Let us declare the second argument word to be optional, so that if word is not provided, \n",
    "the returned list should contain dictionaries, as described above, of all lines in the file. \n",
    "In this case, \"freq\" has value 0.\n",
    "\"\"\"\n",
    "\n",
    "\"\"\"\n",
    "Escribe una función matching_lines_to_list que tome dos argumentos: filename y word. \n",
    "La función matching_lines_to_list devuelve una lista de diccionarios de todas las líneas que contengan word. \n",
    "Cada uno de los diccionarios tiene: una clave \"number\" con un valor entero que contiene el número de línea de la línea en el archivo dado; una clave \"freq\" que cuenta el número de veces que word aparece en la línea; \n",
    "y \"text\" con el valor del texto real contenido en esa línea.\n",
    "\n",
    "Declaremos el segundo argumento word como opcional, \n",
    "de modo que si word no se proporciona, la lista devuelta debe contener diccionarios, \n",
    "como se describió anteriormente, de todas las líneas del archivo. En este caso, \"freq\" tiene valor 0.\n",
    "\"\"\"\n",
    "\n"
   ]
  },
  {
   "cell_type": "markdown",
   "id": "a25db271",
   "metadata": {},
   "source": [
    "Now, we are going to create a function to do the dictionary with this case"
   ]
  },
  {
   "cell_type": "code",
   "execution_count": 4,
   "id": "6e387885",
   "metadata": {
    "vscode": {
     "languageId": "markdown"
    }
   },
   "outputs": [],
   "source": [
    "def matching_lines_to_list(filename, word=None):\n",
    "    \"\"\"\n",
    "    Reads a file and returns a list of dictionaries containing information about lines\n",
    "    that match the given word. If no word is provided, it returns information about all lines.\n",
    "\n",
    "    Args:\n",
    "        filename (str): The name of the file to read.\n",
    "        word (str, optional): The word to search for in the file. Defaults to None.\n",
    "\n",
    "    Returns:\n",
    "        list: A list of dictionaries with keys \"number\", \"freq\", and \"text\".\n",
    "    \"\"\"\n",
    "    result = []\n",
    "    try:\n",
    "        with open(filename, 'r', encoding='utf-8') as file:\n",
    "            for line_number, line in enumerate(file, start=1):\n",
    "                normalized_line = line.strip().lower() \n",
    "                normalized_word = word.strip().lower() if word else None\n",
    "                if normalized_word is None or normalized_word in normalized_line:\n",
    "                    freq = normalized_line.split().count(normalized_word) if normalized_word else 0\n",
    "                    print(freq)\n",
    "                    result.append({\n",
    "                        \"number\": line_number,\n",
    "                        \"freq\": freq,\n",
    "                        \"text\": line.strip()\n",
    "                    })\n",
    "                    # print(result)\n",
    "    except FileNotFoundError:\n",
    "        print(f\"Error: The file '{filename}' was not found.\")\n",
    "    except Exception as e:\n",
    "        print(f\"An error occurred: {e}\")\n",
    "    \n",
    "    return result"
   ]
  },
  {
   "cell_type": "markdown",
   "id": "6f0853d6",
   "metadata": {},
   "source": [
    "So, anytime the function was defined, you can proced to call it"
   ]
  },
  {
   "cell_type": "code",
   "execution_count": 5,
   "id": "a4e53298",
   "metadata": {
    "vscode": {
     "languageId": "markdown"
    }
   },
   "outputs": [
    {
     "name": "stdout",
     "output_type": "stream",
     "text": [
      "1\n",
      "1\n",
      "1\n",
      "1\n",
      "[{'number': 1, 'freq': 1, 'text': 'Hello world'}, {'number': 3, 'freq': 1, 'text': 'Hello again'}, {'number': 6, 'freq': 1, 'text': 'Hello and welcome to the course'}, {'number': 7, 'freq': 1, 'text': 'Hello I like python'}]\n",
      "0\n",
      "0\n",
      "0\n",
      "0\n",
      "0\n",
      "0\n",
      "0\n",
      "[{'number': 1, 'freq': 0, 'text': 'Hello world'}, {'number': 2, 'freq': 0, 'text': 'This is a test file'}, {'number': 3, 'freq': 0, 'text': 'Hello again'}, {'number': 4, 'freq': 0, 'text': 'Python is amazing'}, {'number': 5, 'freq': 0, 'text': 'Artificial Intelligence is the future'}, {'number': 6, 'freq': 0, 'text': 'Hello and welcome to the course'}, {'number': 7, 'freq': 0, 'text': 'Hello I like python'}]\n"
     ]
    }
   ],
   "source": [
    "filename = 'example.txt'\n",
    "\n",
    "# Search for the word you want to find\n",
    "word = str(input('Please, write the word you want to find')) #remember, the word have to be a string\n",
    "# print(word)\n",
    "result = matching_lines_to_list(filename, word) #call function or method\n",
    "print(result)\n",
    "# Output:\n",
    "# [{'number': 1, 'freq': 1, 'text': 'Hello world'},\n",
    "#  {'number': 3, 'freq': 1, 'text': 'Hello again'}]\n",
    "\n",
    "# Process all lines\n",
    "result = matching_lines_to_list(filename)\n",
    "print(result)"
   ]
  },
  {
   "cell_type": "markdown",
   "id": "820e1034",
   "metadata": {},
   "source": [
    "If you want to create the example.txt file, you can use this code:"
   ]
  },
  {
   "cell_type": "code",
   "execution_count": null,
   "id": "4ee47f78",
   "metadata": {
    "vscode": {
     "languageId": "markdown"
    }
   },
   "outputs": [],
   "source": [
    "with open(\"example.txt\", \"w\", encoding=\"utf-8\") as file:\n",
    "    file.write(\"Hello Hello world\\n\")\n",
    "    file.write(\"This is a test file\\n\")\n",
    "    file.write(\"Hello again\\n\")\n",
    "    file.write(\"Python is amazing\\n\")\n",
    "    file.write(\"Artificial Intelligence is the future\\n\")\n",
    "    file.write(\"Hello and welcome to the course\\n\")\n",
    "    file.write(\"Hello Hello I like python\\n\")\n"
   ]
  }
 ],
 "metadata": {
  "kernelspec": {
   "display_name": "Python 3",
   "language": "python",
   "name": "python3"
  },
  "language_info": {
   "codemirror_mode": {
    "name": "ipython",
    "version": 3
   },
   "file_extension": ".py",
   "mimetype": "text/x-python",
   "name": "python",
   "nbconvert_exporter": "python",
   "pygments_lexer": "ipython3",
   "version": "3.11.2"
  }
 },
 "nbformat": 4,
 "nbformat_minor": 5
}
