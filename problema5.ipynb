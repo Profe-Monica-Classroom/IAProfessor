{
 "cells": [
  {
   "cell_type": "markdown",
   "id": "0aa8f9ff",
   "metadata": {},
   "source": [
    "**Problema 5**\n",
    "\n",
    "Importemos un archivo `json` en `df` como primer paso. La variable `df1` tiene un `MultiIndex`. Definamos dos `DataFrame` llamados `df1a` y `df1b`. Tu tarea es definir una variable `df2`, que contenga una combinación (merge) de `df1a` y `df1b` sobre la columna `\"title\"`. Asegúrate de que la tabla resultante conserve el `MultiIndex` heredado y que no se pierda.\n"
   ]
  },
  {
   "cell_type": "code",
   "execution_count": 3,
   "id": "8aeee242",
   "metadata": {},
   "outputs": [
    {
     "name": "stdout",
     "output_type": "stream",
     "text": [
      "                                 title  duration\n",
      "rating stars                                    \n",
      "PG-13  7.5                   Quiz Show       133\n",
      "       7.6                      Batman       126\n",
      "R      8.2     The Wolf of Wall Street       180\n",
      "PG     8.1                        Jaws       124\n",
      "NaN    7.8               Belle de Jour       101\n",
      "PG-13  7.8          As Good as It Gets       139\n",
      "G      8.4                 Toy Story 3       103\n",
      "PG     7.4    Manhattan Murder Mystery       104\n",
      "                  genre                     title\n",
      "rating stars                                     \n",
      "PG-13  7.5          NaN                 Quiz Show\n",
      "       7.6       Action                    Batman\n",
      "R      8.2    Biography   The Wolf of Wall Street\n",
      "PG     8.1        Drama                      Jaws\n",
      "NaN    7.8        Drama             Belle de Jour\n",
      "PG-13  7.8       Comedy        As Good as It Gets\n",
      "G      8.4    Animation               Toy Story 3\n",
      "PG     7.4       Comedy  Manhattan Murder Mystery\n",
      "                               title_x  duration      genre  \\\n",
      "rating stars                                                  \n",
      "PG-13  7.5                   Quiz Show       133        NaN   \n",
      "       7.6                      Batman       126     Action   \n",
      "R      8.2     The Wolf of Wall Street       180  Biography   \n",
      "PG     8.1                        Jaws       124      Drama   \n",
      "NaN    7.8               Belle de Jour       101      Drama   \n",
      "PG-13  7.8          As Good as It Gets       139     Comedy   \n",
      "G      8.4                 Toy Story 3       103  Animation   \n",
      "PG     7.4    Manhattan Murder Mystery       104     Comedy   \n",
      "\n",
      "                               title_y  \n",
      "rating stars                            \n",
      "PG-13  7.5                   Quiz Show  \n",
      "       7.6                      Batman  \n",
      "R      8.2     The Wolf of Wall Street  \n",
      "PG     8.1                        Jaws  \n",
      "NaN    7.8               Belle de Jour  \n",
      "PG-13  7.8          As Good as It Gets  \n",
      "G      8.4                 Toy Story 3  \n",
      "PG     7.4    Manhattan Murder Mystery  \n"
     ]
    }
   ],
   "source": [
    "import pandas as pd # Importar pandas\n",
    "\n",
    "# Leer el archivo JSON\n",
    "df = pd.read_json(\"entertain.json\")\n",
    "\n",
    "# Crear el MultiIndex\n",
    "df1 = df.set_index([\"rating\", \"stars\"])\n",
    "\n",
    "# Seleccionar columnas para los dos DataFrames\n",
    "df1a = df1[[\"title\", \"duration\"]] # Seleccionar columnas para el primer DataFrame\n",
    "print(df1a) # Mostrar el primer DataFrame\n",
    "df1b = df1[[\"genre\", \"title\"]] # Seleccionar columnas para el segundo DataFrame\n",
    "print(df1b) # Mostrar el segundo DataFrame\n",
    "# Realizar el merge sobre la columna \"title\", conservando el MultiIndex\n",
    "df2 = pd.merge(df1a, df1b, left_index=True, right_index=True)\n",
    "\n",
    "# Mostrar el resultado\n",
    "print(df2)\n",
    "# Guardar el resultado en un archivo CSV\n",
    "df2.to_csv(\"entertain.csv\", index=True)"
   ]
  }
 ],
 "metadata": {
  "kernelspec": {
   "display_name": "Python 3",
   "language": "python",
   "name": "python3"
  },
  "language_info": {
   "codemirror_mode": {
    "name": "ipython",
    "version": 3
   },
   "file_extension": ".py",
   "mimetype": "text/x-python",
   "name": "python",
   "nbconvert_exporter": "python",
   "pygments_lexer": "ipython3",
   "version": "3.11.2"
  }
 },
 "nbformat": 4,
 "nbformat_minor": 5
}
